{
 "cells": [
  {
   "cell_type": "code",
   "execution_count": 1,
   "metadata": {},
   "outputs": [],
   "source": [
    "import time\n",
    "import dotenv\n",
    "import imaplib\n",
    "import os\n",
    "from servers import servers\n",
    "import email\n",
    "\n",
    "dotenv.load_dotenv()\n",
    "\n",
    "email_user = os.environ.get(\"USER\")\n",
    "pswrd = os.environ.get(\"PASS\")\n",
    "server = os.environ.get(\"SERVER\")\n",
    "MAILBOX = \"Hulu\"\n",
    "wkhtmltopdf_path = \"C:\\Program Files\\wkhtmltopdf\\bin\\wkhtmltoimage.exe\""
   ]
  },
  {
   "cell_type": "code",
   "execution_count": 2,
   "metadata": {},
   "outputs": [
    {
     "name": "stdout",
     "output_type": "stream",
     "text": [
      "Logging into mailbox...\n",
      "Logged into mailbox\n"
     ]
    }
   ],
   "source": [
    "try:\n",
    "    imap_ssl = imaplib.IMAP4_SSL(host=servers[server], port=imaplib.IMAP4_SSL_PORT)\n",
    "except Exception as e:\n",
    "    print(f\"ErrorType : {type(e).__name__}, Error : {e}\")\n",
    "    imap_ssl = None\n",
    "\n",
    "print(\"Logging into mailbox...\")\n",
    "try:\n",
    "    resp_code, response = imap_ssl.login(email_user, pswrd)\n",
    "except Exception as e:\n",
    "    print(f\"ErrorType : {type(e).__name__}, Error : {e.decode()}\")\n",
    "    resp_code, response = None, None\n",
    "print(\"Logged into mailbox\")"
   ]
  },
  {
   "cell_type": "code",
   "execution_count": 3,
   "metadata": {},
   "outputs": [
    {
     "name": "stdout",
     "output_type": "stream",
     "text": [
      "Mail IDs : ['1']\n",
      "\n"
     ]
    }
   ],
   "source": [
    "resp_code, mail_count = imap_ssl.select(mailbox=MAILBOX, readonly=True)\n",
    "resp_code, mail_ids = imap_ssl.search(None, \"ALL\")\n",
    "print(f\"Mail IDs : {mail_ids[0].decode().split()}\\n\")\n"
   ]
  },
  {
   "cell_type": "code",
   "execution_count": null,
   "metadata": {},
   "outputs": [],
   "source": [
    "from html2text import html2text, HTML2Text\n",
    "h = HTML2Text()\n",
    "h.ignore_links = True\n",
    "\n",
    "for mail_id in mail_ids[0].decode().split()[-2:]:\n",
    "    resp_code, mail_data = imap_ssl.fetch(mail_id, '(RFC822)') ## Fetch mail data.\n",
    "    message = email.message_from_bytes(mail_data[0][1]) ## Construct Message from mail data\n",
    "    print(f'Date       : {message.get(\"Date\")}')\n",
    "    print(\"Body : \")\n",
    "    payload = h.handle(message.get_payload())\n",
    "    code = payload.split(\".\")[0].split()[-1]\n",
    "    print(payload)\n",
    "    "
   ]
  },
  {
   "cell_type": "code",
   "execution_count": null,
   "metadata": {},
   "outputs": [],
   "source": [
    "############### Logout of Mailbox ######################\n",
    "print(\"\\nLogging Out....\")\n",
    "try:\n",
    "    resp_code, response = imap_ssl.logout()\n",
    "except Exception as e:\n",
    "    print(f\"ErrorType : {type(e).__name__}, Error : {e.decode()}\")\n",
    "    resp_code, response = None, None"
   ]
  },
  {
   "cell_type": "code",
   "execution_count": null,
   "metadata": {},
   "outputs": [
    {
     "name": "stderr",
     "output_type": "stream",
     "text": [
      "\n",
      "[notice] A new release of pip is available: 24.2 -> 24.3.1\n",
      "[notice] To update, run: python.exe -m pip install --upgrade pip\n"
     ]
    },
    {
     "name": "stdout",
     "output_type": "stream",
     "text": [
      "Requirement already satisfied: supabase in c:\\users\\james\\documents\\hulu-verification-code\\env\\lib\\site-packages (2.10.0)\n",
      "Requirement already satisfied: gotrue<3.0.0,>=2.10.0 in c:\\users\\james\\documents\\hulu-verification-code\\env\\lib\\site-packages (from supabase) (2.11.0)\n",
      "Requirement already satisfied: httpx<0.28,>=0.26 in c:\\users\\james\\documents\\hulu-verification-code\\env\\lib\\site-packages (from supabase) (0.27.2)\n",
      "Requirement already satisfied: postgrest<0.19,>=0.18 in c:\\users\\james\\documents\\hulu-verification-code\\env\\lib\\site-packages (from supabase) (0.18.0)\n",
      "Requirement already satisfied: realtime<3.0.0,>=2.0.0 in c:\\users\\james\\documents\\hulu-verification-code\\env\\lib\\site-packages (from supabase) (2.0.6)\n",
      "Requirement already satisfied: storage3<0.10.0,>=0.9.0 in c:\\users\\james\\documents\\hulu-verification-code\\env\\lib\\site-packages (from supabase) (0.9.0)\n",
      "Requirement already satisfied: supafunc<0.8.0,>=0.7.0 in c:\\users\\james\\documents\\hulu-verification-code\\env\\lib\\site-packages (from supabase) (0.7.0)\n",
      "Requirement already satisfied: pydantic<3,>=1.10 in c:\\users\\james\\documents\\hulu-verification-code\\env\\lib\\site-packages (from gotrue<3.0.0,>=2.10.0->supabase) (1.10.4)\n",
      "Requirement already satisfied: anyio in c:\\users\\james\\documents\\hulu-verification-code\\env\\lib\\site-packages (from httpx<0.28,>=0.26->supabase) (3.6.2)\n",
      "Requirement already satisfied: certifi in c:\\users\\james\\documents\\hulu-verification-code\\env\\lib\\site-packages (from httpx<0.28,>=0.26->supabase) (2022.12.7)\n",
      "Requirement already satisfied: httpcore==1.* in c:\\users\\james\\documents\\hulu-verification-code\\env\\lib\\site-packages (from httpx<0.28,>=0.26->supabase) (1.0.7)\n",
      "Requirement already satisfied: idna in c:\\users\\james\\documents\\hulu-verification-code\\env\\lib\\site-packages (from httpx<0.28,>=0.26->supabase) (3.4)\n",
      "Requirement already satisfied: sniffio in c:\\users\\james\\documents\\hulu-verification-code\\env\\lib\\site-packages (from httpx<0.28,>=0.26->supabase) (1.3.0)\n",
      "Requirement already satisfied: h11<0.15,>=0.13 in c:\\users\\james\\documents\\hulu-verification-code\\env\\lib\\site-packages (from httpcore==1.*->httpx<0.28,>=0.26->supabase) (0.14.0)\n",
      "Requirement already satisfied: deprecation<3.0.0,>=2.1.0 in c:\\users\\james\\documents\\hulu-verification-code\\env\\lib\\site-packages (from postgrest<0.19,>=0.18->supabase) (2.1.0)\n",
      "Requirement already satisfied: strenum<0.5.0,>=0.4.9 in c:\\users\\james\\documents\\hulu-verification-code\\env\\lib\\site-packages (from postgrest<0.19,>=0.18->supabase) (0.4.15)\n",
      "Requirement already satisfied: aiohttp<4.0.0,>=3.10.10 in c:\\users\\james\\documents\\hulu-verification-code\\env\\lib\\site-packages (from realtime<3.0.0,>=2.0.0->supabase) (3.11.9)\n",
      "Requirement already satisfied: python-dateutil<3.0.0,>=2.8.1 in c:\\users\\james\\documents\\hulu-verification-code\\env\\lib\\site-packages (from realtime<3.0.0,>=2.0.0->supabase) (2.8.2)\n",
      "Requirement already satisfied: typing-extensions<5.0.0,>=4.12.2 in c:\\users\\james\\documents\\hulu-verification-code\\env\\lib\\site-packages (from realtime<3.0.0,>=2.0.0->supabase) (4.12.2)\n",
      "Requirement already satisfied: websockets<14,>=11 in c:\\users\\james\\documents\\hulu-verification-code\\env\\lib\\site-packages (from realtime<3.0.0,>=2.0.0->supabase) (13.1)\n",
      "Requirement already satisfied: aiohappyeyeballs>=2.3.0 in c:\\users\\james\\documents\\hulu-verification-code\\env\\lib\\site-packages (from aiohttp<4.0.0,>=3.10.10->realtime<3.0.0,>=2.0.0->supabase) (2.4.4)\n",
      "Requirement already satisfied: aiosignal>=1.1.2 in c:\\users\\james\\documents\\hulu-verification-code\\env\\lib\\site-packages (from aiohttp<4.0.0,>=3.10.10->realtime<3.0.0,>=2.0.0->supabase) (1.3.1)\n",
      "Requirement already satisfied: async-timeout<6.0,>=4.0 in c:\\users\\james\\documents\\hulu-verification-code\\env\\lib\\site-packages (from aiohttp<4.0.0,>=3.10.10->realtime<3.0.0,>=2.0.0->supabase) (5.0.1)\n",
      "Requirement already satisfied: attrs>=17.3.0 in c:\\users\\james\\documents\\hulu-verification-code\\env\\lib\\site-packages (from aiohttp<4.0.0,>=3.10.10->realtime<3.0.0,>=2.0.0->supabase) (24.2.0)\n",
      "Requirement already satisfied: frozenlist>=1.1.1 in c:\\users\\james\\documents\\hulu-verification-code\\env\\lib\\site-packages (from aiohttp<4.0.0,>=3.10.10->realtime<3.0.0,>=2.0.0->supabase) (1.5.0)\n",
      "Requirement already satisfied: multidict<7.0,>=4.5 in c:\\users\\james\\documents\\hulu-verification-code\\env\\lib\\site-packages (from aiohttp<4.0.0,>=3.10.10->realtime<3.0.0,>=2.0.0->supabase) (6.1.0)\n",
      "Requirement already satisfied: propcache>=0.2.0 in c:\\users\\james\\documents\\hulu-verification-code\\env\\lib\\site-packages (from aiohttp<4.0.0,>=3.10.10->realtime<3.0.0,>=2.0.0->supabase) (0.2.1)\n",
      "Requirement already satisfied: yarl<2.0,>=1.17.0 in c:\\users\\james\\documents\\hulu-verification-code\\env\\lib\\site-packages (from aiohttp<4.0.0,>=3.10.10->realtime<3.0.0,>=2.0.0->supabase) (1.18.3)\n",
      "Requirement already satisfied: packaging in c:\\users\\james\\documents\\hulu-verification-code\\env\\lib\\site-packages (from deprecation<3.0.0,>=2.1.0->postgrest<0.19,>=0.18->supabase) (23.0)\n",
      "Requirement already satisfied: h2<5,>=3 in c:\\users\\james\\documents\\hulu-verification-code\\env\\lib\\site-packages (from httpx[http2]<0.28,>=0.26->gotrue<3.0.0,>=2.10.0->supabase) (4.1.0)\n",
      "Requirement already satisfied: six>=1.5 in c:\\users\\james\\documents\\hulu-verification-code\\env\\lib\\site-packages (from python-dateutil<3.0.0,>=2.8.1->realtime<3.0.0,>=2.0.0->supabase) (1.16.0)\n",
      "Requirement already satisfied: hyperframe<7,>=6.0 in c:\\users\\james\\documents\\hulu-verification-code\\env\\lib\\site-packages (from h2<5,>=3->httpx[http2]<0.28,>=0.26->gotrue<3.0.0,>=2.10.0->supabase) (6.0.1)\n",
      "Requirement already satisfied: hpack<5,>=4.0 in c:\\users\\james\\documents\\hulu-verification-code\\env\\lib\\site-packages (from h2<5,>=3->httpx[http2]<0.28,>=0.26->gotrue<3.0.0,>=2.10.0->supabase) (4.0.0)\n",
      "Note: you may need to restart the kernel to use updated packages.\n"
     ]
    },
    {
     "ename": "AttributeError",
     "evalue": "'AuthResponse' object has no attribute 'get'",
     "output_type": "error",
     "traceback": [
      "\u001b[1;31m---------------------------------------------------------------------------\u001b[0m",
      "\u001b[1;31mAttributeError\u001b[0m                            Traceback (most recent call last)",
      "Cell \u001b[1;32mIn[1], line 23\u001b[0m\n\u001b[0;32m     21\u001b[0m email \u001b[38;5;241m=\u001b[39m \u001b[38;5;124m\"\u001b[39m\u001b[38;5;124mcamron_siddiqi@yahoo.com\u001b[39m\u001b[38;5;124m\"\u001b[39m\n\u001b[0;32m     22\u001b[0m password \u001b[38;5;241m=\u001b[39m \u001b[38;5;124m\"\u001b[39m\u001b[38;5;124mC4nc3rP4ss!\u001b[39m\u001b[38;5;124m\"\u001b[39m\n\u001b[1;32m---> 23\u001b[0m \u001b[43mcreate_user\u001b[49m\u001b[43m(\u001b[49m\u001b[43memail\u001b[49m\u001b[43m,\u001b[49m\u001b[43m \u001b[49m\u001b[43mpassword\u001b[49m\u001b[43m)\u001b[49m\n",
      "Cell \u001b[1;32mIn[1], line 15\u001b[0m, in \u001b[0;36mcreate_user\u001b[1;34m(email, password)\u001b[0m\n\u001b[0;32m     13\u001b[0m \u001b[38;5;28;01mdef\u001b[39;00m \u001b[38;5;21mcreate_user\u001b[39m(email: \u001b[38;5;28mstr\u001b[39m, password: \u001b[38;5;28mstr\u001b[39m):\n\u001b[0;32m     14\u001b[0m     response \u001b[38;5;241m=\u001b[39m supabase\u001b[38;5;241m.\u001b[39mauth\u001b[38;5;241m.\u001b[39msign_up({\u001b[38;5;124m\"\u001b[39m\u001b[38;5;124memail\u001b[39m\u001b[38;5;124m\"\u001b[39m:email, \u001b[38;5;124m\"\u001b[39m\u001b[38;5;124mpassword\u001b[39m\u001b[38;5;124m\"\u001b[39m:password})\n\u001b[1;32m---> 15\u001b[0m     \u001b[38;5;28;01mif\u001b[39;00m \u001b[43mresponse\u001b[49m\u001b[38;5;241;43m.\u001b[39;49m\u001b[43mget\u001b[49m(\u001b[38;5;124m\"\u001b[39m\u001b[38;5;124merror\u001b[39m\u001b[38;5;124m\"\u001b[39m):\n\u001b[0;32m     16\u001b[0m         \u001b[38;5;28mprint\u001b[39m(\u001b[38;5;124mf\u001b[39m\u001b[38;5;124m\"\u001b[39m\u001b[38;5;124mError: \u001b[39m\u001b[38;5;132;01m{\u001b[39;00mresponse[\u001b[38;5;124m'\u001b[39m\u001b[38;5;124merror\u001b[39m\u001b[38;5;124m'\u001b[39m][\u001b[38;5;124m'\u001b[39m\u001b[38;5;124mmessage\u001b[39m\u001b[38;5;124m'\u001b[39m]\u001b[38;5;132;01m}\u001b[39;00m\u001b[38;5;124m\"\u001b[39m)\n\u001b[0;32m     17\u001b[0m     \u001b[38;5;28;01melse\u001b[39;00m:\n",
      "\u001b[1;31mAttributeError\u001b[0m: 'AuthResponse' object has no attribute 'get'"
     ]
    }
   ],
   "source": [
    "%pip install supabase\n",
    "from supabase import create_client, Client\n",
    "import os\n",
    "import dotenv\n",
    "dotenv.load_dotenv()\n",
    "\n",
    "# Initialize Supabase client\n",
    "SUPABASE_URL = os.getenv(\"SUPABASE_URL\")\n",
    "SUPABASE_KEY = os.getenv(\"SUPABASE_KEY\")\n",
    "supabase: Client = create_client(SUPABASE_URL, SUPABASE_KEY)\n",
    "\n",
    "# Function to create a new user\n",
    "def create_user(email: str, password: str):\n",
    "    response = supabase.auth.sign_up({\"email\":email, \"password\":password})\n",
    "    if response.get(\"error\"):\n",
    "        print(f\"Error: {response['error']['message']}\")\n",
    "    else:\n",
    "        print(f\"User created successfully: {response['data']}\")\n",
    "\n",
    "# Example usage\n",
    "email = \"camron_siddiqi@yahoo.com\"\n",
    "password = \"C4nc3rP4ss!\"\n",
    "create_user(email, password)\n"
   ]
  },
  {
   "cell_type": "code",
   "execution_count": null,
   "metadata": {},
   "outputs": [],
   "source": []
  }
 ],
 "metadata": {
  "kernelspec": {
   "display_name": "env",
   "language": "python",
   "name": "python3"
  },
  "language_info": {
   "codemirror_mode": {
    "name": "ipython",
    "version": 3
   },
   "file_extension": ".py",
   "mimetype": "text/x-python",
   "name": "python",
   "nbconvert_exporter": "python",
   "pygments_lexer": "ipython3",
   "version": "3.10.7"
  },
  "orig_nbformat": 4
 },
 "nbformat": 4,
 "nbformat_minor": 2
}
